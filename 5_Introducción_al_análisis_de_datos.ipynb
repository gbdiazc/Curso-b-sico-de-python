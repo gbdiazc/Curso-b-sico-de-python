{
  "cells": [
    {
      "cell_type": "markdown",
      "metadata": {
        "id": "AepNAZLxspn0"
      },
      "source": [
        "# La estructura de datos en serie"
      ]
    },
    {
      "cell_type": "markdown",
      "metadata": {
        "id": "S2hmDUl_IiZj"
      },
      "source": [
        "Una serie es un n-arreglo unidimensional con etiquetas.\n",
        "\n",
        "Es un arreglo que te permite almacenar información de diferentes tipos sea por medio de cadenas de texto, flotantes o enteros, entre otros."
      ]
    },
    {
      "cell_type": "code",
      "execution_count": null,
      "metadata": {
        "id": "jaALG1qQspn2"
      },
      "outputs": [],
      "source": [
        "import pandas as pd\n",
        "pd.Series?"
      ]
    },
    {
      "cell_type": "code",
      "execution_count": null,
      "metadata": {
        "id": "u1mggkP-spoJ"
      },
      "outputs": [],
      "source": [
        "animals = ['Tiger', 'Bear', 'Moose']\n",
        "pd.Series(animals)"
      ]
    },
    {
      "cell_type": "code",
      "execution_count": null,
      "metadata": {
        "id": "Zf7M94Anspof"
      },
      "outputs": [],
      "source": [
        "numbers = [1, 2, 3]\n",
        "pd.Series(numbers)"
      ]
    },
    {
      "cell_type": "code",
      "execution_count": null,
      "metadata": {
        "id": "2cdVT9_Wspo6"
      },
      "outputs": [],
      "source": [
        "animals = ['Tiger', 'Bear', None]\n",
        "pd.Series(animals)"
      ]
    },
    {
      "cell_type": "code",
      "execution_count": null,
      "metadata": {
        "id": "e--Zm3SBsppD"
      },
      "outputs": [],
      "source": [
        "numbers = [1, -2, 3, -4, 5, -6, 7, -7, 7, -7, 8, -9, 10, -11, 12]\n",
        "serie = pd.Series(numbers)\n",
        "serie"
      ]
    },
    {
      "cell_type": "code",
      "execution_count": null,
      "metadata": {
        "id": "ptECui_fbuRo"
      },
      "outputs": [],
      "source": [
        "serie.describe()"
      ]
    },
    {
      "cell_type": "code",
      "execution_count": null,
      "metadata": {
        "id": "3CWwT37cdkvw"
      },
      "outputs": [],
      "source": [
        "serie.min()"
      ]
    },
    {
      "cell_type": "code",
      "execution_count": null,
      "metadata": {
        "id": "WxlWpCVsdnkW"
      },
      "outputs": [],
      "source": [
        "serie.max()"
      ]
    },
    {
      "cell_type": "code",
      "execution_count": null,
      "metadata": {
        "id": "OawlsM7Jd_ef"
      },
      "outputs": [],
      "source": [
        "serie.abs()"
      ]
    },
    {
      "cell_type": "code",
      "execution_count": null,
      "metadata": {
        "id": "ggGPS7_rfCVG"
      },
      "outputs": [],
      "source": [
        "serie.where(serie > 1)"
      ]
    },
    {
      "cell_type": "code",
      "execution_count": null,
      "metadata": {
        "id": "6KTLgl71fft6"
      },
      "outputs": [],
      "source": [
        "serie.where(serie > 1, 0)"
      ]
    },
    {
      "cell_type": "code",
      "execution_count": null,
      "metadata": {
        "id": "IlmpTsptfmfW"
      },
      "outputs": [],
      "source": [
        "serie.where(serie > 1).dropna()"
      ]
    },
    {
      "cell_type": "code",
      "execution_count": null,
      "metadata": {
        "id": "sN0BFdvfcWIm"
      },
      "outputs": [],
      "source": [
        "serie1 = pd.Series([1, 2, 3, 5, 7])\n",
        "serie2 = pd.Series([13, 17, 11, 5, 3])"
      ]
    },
    {
      "cell_type": "code",
      "execution_count": null,
      "metadata": {
        "id": "KUrG1vx_cXiZ"
      },
      "outputs": [],
      "source": [
        "serie1 < serie2"
      ]
    },
    {
      "cell_type": "code",
      "execution_count": null,
      "metadata": {
        "id": "_2ras5g2caYf"
      },
      "outputs": [],
      "source": [
        "serie1 > serie2"
      ]
    },
    {
      "cell_type": "code",
      "execution_count": null,
      "metadata": {
        "id": "THS2pp5DcdgB"
      },
      "outputs": [],
      "source": [
        "serie1 == serie2"
      ]
    },
    {
      "cell_type": "markdown",
      "metadata": {
        "id": "TPfvt1sFcjDX"
      },
      "source": [
        "Los diccionarios se pueden convertir en series"
      ]
    },
    {
      "cell_type": "code",
      "execution_count": null,
      "metadata": {
        "id": "0wDAcAE4cg6l"
      },
      "outputs": [],
      "source": [
        "datos = {'a': 10, 'b': 20, 'c': 30, 'd': 40}\n",
        "\n",
        "serie = pd.Series(datos)\n",
        "serie"
      ]
    },
    {
      "cell_type": "code",
      "execution_count": null,
      "metadata": {
        "id": "1zMpngpjciSG"
      },
      "outputs": [],
      "source": [
        "serie['a']"
      ]
    },
    {
      "cell_type": "code",
      "execution_count": null,
      "metadata": {
        "id": "5q8ljulzsppS"
      },
      "outputs": [],
      "source": [
        "import numpy as np\n",
        "np.nan == None"
      ]
    },
    {
      "cell_type": "code",
      "execution_count": null,
      "metadata": {
        "id": "PYvaUyS0sppa"
      },
      "outputs": [],
      "source": [
        "np.nan == np.nan"
      ]
    },
    {
      "cell_type": "code",
      "execution_count": null,
      "metadata": {
        "id": "rmbJfbvLsppi"
      },
      "outputs": [],
      "source": [
        "np.isnan(np.nan)"
      ]
    },
    {
      "cell_type": "code",
      "execution_count": null,
      "metadata": {
        "id": "XWUMPY1DuUHB"
      },
      "outputs": [],
      "source": [
        "np.isnan(1)"
      ]
    },
    {
      "cell_type": "code",
      "execution_count": null,
      "metadata": {
        "id": "27RyHmuldw72"
      },
      "outputs": [],
      "source": [
        "datos = ['2.3', 'Python', '90', '100', np.nan, '0.5', '.9']\n",
        "\n",
        "serie = pd.Series(datos)\n",
        "\n",
        "serie"
      ]
    },
    {
      "cell_type": "code",
      "execution_count": null,
      "metadata": {
        "id": "gjRhDv83d4VN"
      },
      "outputs": [],
      "source": [
        "serie = serie.dropna()\n",
        "serie"
      ]
    },
    {
      "cell_type": "code",
      "execution_count": null,
      "metadata": {
        "id": "Ewt1RbDwehj7"
      },
      "outputs": [],
      "source": [
        "datos = [1, 3, 7, 11, 'Python', '-0.5', np.nan]\n",
        "\n",
        "serie = pd.Series(datos)\n",
        "\n",
        "serie"
      ]
    },
    {
      "cell_type": "code",
      "execution_count": null,
      "metadata": {
        "id": "mc5Sk5_aekh5"
      },
      "outputs": [],
      "source": [
        "serie.fillna(0, inplace=True)\n",
        "\n",
        "serie"
      ]
    },
    {
      "cell_type": "markdown",
      "metadata": {
        "collapsed": true,
        "id": "2uvvyKH_spti"
      },
      "source": [
        "# La estructura de datos Data Frame con [pandas][]\n",
        "\n",
        "Pandas DataFrame es una estructura de datos como cualquier tabla con filas y columnas. Los valores de la dataframe pueden ser modficados. Por ello es el objeto de pandas mas comunmente usado. Existen distintas maneras de crear Data Frames. Entre ellas esta la funcion DataFrame().\n",
        "\n",
        "\n",
        "\n",
        "```\n",
        "import pandas as pd\n",
        "pd.DataFrame(data, index, columns)\n",
        "```\n",
        "\n",
        "[pandas]:https://pandas.pydata.org/pandas-docs/stable/user_guide/index.html#user-guide"
      ]
    },
    {
      "cell_type": "markdown",
      "metadata": {
        "id": "0fHF7ymKIiZ8"
      },
      "source": [
        "\n",
        "Para crear un data frame se usa la siguiente sintaxis\n",
        "data: Es el conjunto de datos con el que se crea el Data Frame. Pueden ser una lista, un diccionario, un valor escalar, una serie, un arreglo ndarray, etc.\n",
        "\n",
        "index: Es opcional, por defecto, el indice empieza en 0 y termina en n-1 para una lista de n valores. Define de manera explicita la etiqueta de las filas.\n",
        "\n",
        "columns: Se usa para crear los nombres de las columnas. Si no se define el nombre de las columnas, de manera similar toma valores de 0 a n-1"
      ]
    },
    {
      "cell_type": "code",
      "execution_count": null,
      "metadata": {
        "id": "U6p7zTOYIiZ8"
      },
      "outputs": [],
      "source": [
        "# Importing Pandas to create DataFrame\n",
        "import pandas as pd\n",
        "  \n",
        "# Creating Empty DataFrame and Storing it in variable df\n",
        "df = pd.DataFrame()\n",
        "  \n",
        "# Printing Empty DataFrame\n",
        "print(df)"
      ]
    },
    {
      "cell_type": "code",
      "execution_count": null,
      "metadata": {
        "id": "SLc8LOHtIiZ8"
      },
      "outputs": [],
      "source": [
        "df"
      ]
    },
    {
      "cell_type": "markdown",
      "metadata": {
        "id": "hYH1Zvnb017E"
      },
      "source": [
        "# Formas de crear data Frames\n",
        "\n",
        "\n",
        "## A partir de listas"
      ]
    },
    {
      "cell_type": "code",
      "execution_count": null,
      "metadata": {
        "id": "tlWwBd9J017E"
      },
      "outputs": [],
      "source": [
        "# Primero se crea la lista de datos a usar.\n",
        "data = [10,20,30,40,50,60]\n",
        "  \n",
        "# Se crea la base de datos usando el nombre Numeros para la columna.\n",
        "df = pd.DataFrame(data, columns=['Numeros'])\n",
        "  \n",
        "# Se imprime \n",
        "df"
      ]
    },
    {
      "cell_type": "code",
      "execution_count": null,
      "metadata": {
        "id": "Ag4PGLGm017F"
      },
      "outputs": [],
      "source": [
        "type(df)"
      ]
    },
    {
      "cell_type": "markdown",
      "metadata": {
        "id": "2hyIwaSF017F"
      },
      "source": [
        "## A partir de listas de listas\n"
      ]
    },
    {
      "cell_type": "code",
      "execution_count": null,
      "metadata": {
        "id": "opsc6Ma_017F"
      },
      "outputs": [],
      "source": [
        "# Primero se crea la lista de listas, cada elemento corresponde al par del nombre y edad de una persona.\n",
        "data = [['juan', 10], ['pepe', 15], ['julia', 14]]\n",
        "  \n",
        "# Luego creamos la base de datos \n",
        "df = pd.DataFrame(data)\n",
        "\n",
        "# Se imprime\n",
        "df"
      ]
    },
    {
      "cell_type": "markdown",
      "metadata": {
        "id": "K7EoDjRh017F"
      },
      "source": [
        "# A partir de diccionarios \n",
        "Se puede crear una Data Frame a partir de uno o varios diccionarios. Para hacerlo a partir de uno simplemente lo convertimos a lista y posteriormente a dataframe, para construirlo a partir de varios unimos los diccionarios en una lista"
      ]
    },
    {
      "cell_type": "code",
      "execution_count": null,
      "metadata": {
        "id": "4tSaPba9017F"
      },
      "outputs": [],
      "source": [
        "# Creamos el diccionario\n",
        "data_1 = {'Nombre': 'juan','Edad':20}\n",
        "lista = []\n",
        "lista.append(data_1)\n",
        "# Hacemos la base de datos a partir de un diccionario \n",
        "df = pd.DataFrame(lista)\n",
        "  \n",
        "# Imprimimos\n",
        "df"
      ]
    },
    {
      "cell_type": "code",
      "execution_count": null,
      "metadata": {
        "id": "Bku-6XsY017F"
      },
      "outputs": [],
      "source": [
        "# Creamos el segundo diccionario\n",
        "data_2 = {'Nombre': 'pepe',\n",
        "        'Edad': 25}\n",
        "\n",
        "# Agregamos el nuevo diccionario a lista creada anteriormente\n",
        "lista.append(data_2)\n",
        "\n",
        "df = pd.DataFrame(lista)\n",
        "df"
      ]
    },
    {
      "cell_type": "code",
      "execution_count": null,
      "metadata": {
        "id": "g1yjCTzi017F"
      },
      "outputs": [],
      "source": [
        "# Se crea la lista con diccionarios\n",
        "data = [{'a': 1, 'b': 2, 'c': 3},\n",
        "        {'a': 10, 'b': 20, 'c': 30}]\n",
        "  \n",
        "# Se convierte en data frame\n",
        "df = pd.DataFrame(data)\n",
        "\n",
        "# Se imprime\n",
        "df"
      ]
    },
    {
      "cell_type": "markdown",
      "metadata": {
        "id": "evVTQHZe017G"
      },
      "source": [
        "# A partir de diccionarios con listas\n",
        "Para crear una Data Frame de un diccionario de arreglos o listas, todos los arreglos deben ser del mismo tamaño. El indice debe ser del mismo tamaño que los arreglos, si no se declara el indice, se toma el tamaño del areglo, n, y el indice es range(n)."
      ]
    },
    {
      "cell_type": "code",
      "execution_count": null,
      "metadata": {
        "id": "pF2zLfPg017G"
      },
      "outputs": [],
      "source": [
        "# Creamos el diccionario\n",
        "data = {'Nombre': ['juan', 'pepe', 'julia', 'ana'],\n",
        "        'Edad': [20, 21, 19, 18]}\n",
        "\n",
        "# Hacemos la base de datos a partir del diccionario \n",
        "df = pd.DataFrame(data)\n",
        "  \n",
        "# Imprimimos\n",
        "df"
      ]
    },
    {
      "cell_type": "markdown",
      "metadata": {
        "id": "skK5FnDY017G"
      },
      "source": [
        "Adicionalmente se pueden dar las etiquetas o índices explícitamente"
      ]
    },
    {
      "cell_type": "code",
      "execution_count": null,
      "metadata": {
        "id": "lG9yCWcX017G"
      },
      "outputs": [],
      "source": [
        "# Se crea el diccionario\n",
        "data = {'Nombre': ['juan', 'pepe', 'julia', 'ana'],\n",
        "        'Calificacion': [99, 98, 95, 90]}\n",
        "\n",
        "# Se convierte en dataframe y se específica el índice\n",
        "df = pd.DataFrame(data, index=['Estudiante  1','Estudiante  2','Estudiante  3','Estudiante  4'])\n",
        "  \n",
        "# Se imprime    \n",
        "df"
      ]
    },
    {
      "cell_type": "markdown",
      "metadata": {
        "id": "sDYWQt2x017G"
      },
      "source": [
        "También se puede agregar el nombre de las columnas"
      ]
    },
    {
      "cell_type": "code",
      "execution_count": null,
      "metadata": {
        "id": "t3KLyVli017G"
      },
      "outputs": [],
      "source": [
        "# Primero se crea la lista de listas, cada elemento corresponde al par del nombre y edad de una persona.\n",
        "data = [['juan', 10], ['pepe', 15], ['julia', 14]]\n",
        "  \n",
        "# Luego creamos la base de datos y nombramos las columnas como Nombre y Edad\n",
        "df = pd.DataFrame(data, columns=['Nombre', 'Edad'], index=['Estudiante 1','Estudiante 2','Estudiante 3'])\n",
        "\n",
        "# Se imprime\n",
        "df"
      ]
    },
    {
      "cell_type": "markdown",
      "metadata": {
        "id": "d10f0fmi017G"
      },
      "source": [
        "## Leer DataFrames\n",
        "\n",
        "Para leer los dataframes se puede usar la siguiente instrucción:\n",
        "\n",
        "```\n",
        "df = pd.read_csv('df.csv')\n",
        "```\n",
        "\n",
        "Ahora vamos a leer el Data Frame con los datos del diccionario que mandaron"
      ]
    },
    {
      "cell_type": "code",
      "source": [
        "from google.colab import drive\n",
        "drive.mount('/content/drive')"
      ],
      "metadata": {
        "id": "ANzOfy1M1G-v"
      },
      "execution_count": null,
      "outputs": []
    },
    {
      "cell_type": "code",
      "source": [
        "import pandas as pd\n",
        "directory = \"/content/drive/MyDrive/Cursos/Notebooks/\"\n",
        "df = pd.read_csv(directory + 'df_0.csv' )\n",
        "df"
      ],
      "metadata": {
        "id": "1_F6ncp_1VRb"
      },
      "execution_count": null,
      "outputs": []
    },
    {
      "cell_type": "code",
      "execution_count": null,
      "metadata": {
        "id": "9jKR7u5i017H"
      },
      "outputs": [],
      "source": [
        "df.info()"
      ]
    },
    {
      "cell_type": "code",
      "execution_count": null,
      "metadata": {
        "id": "fe5hvxKKIiZ8"
      },
      "outputs": [],
      "source": [
        "columnas = df.columns\n",
        "columnas"
      ]
    },
    {
      "cell_type": "code",
      "execution_count": null,
      "metadata": {
        "id": "BwtgBsuRlCBn"
      },
      "outputs": [],
      "source": [
        "df.head()"
      ]
    },
    {
      "cell_type": "code",
      "execution_count": null,
      "metadata": {
        "id": "wTjRSKzS017H"
      },
      "outputs": [],
      "source": [
        "dfnan =df.dropna()\n",
        "dfnan"
      ]
    },
    {
      "cell_type": "code",
      "execution_count": null,
      "metadata": {
        "id": "kSb4f9LA017I"
      },
      "outputs": [],
      "source": [
        "df.loc[:,['Nombres', 'Apellidos']]"
      ]
    },
    {
      "cell_type": "code",
      "execution_count": null,
      "metadata": {
        "id": "TDUeTbVU017I"
      },
      "outputs": [],
      "source": [
        "df.loc[:,['Nombres', 'Apellidos']].dropna()"
      ]
    },
    {
      "cell_type": "code",
      "execution_count": null,
      "metadata": {
        "id": "63JnATmf017I"
      },
      "outputs": [],
      "source": [
        "df_1 = df.drop(columns=['Nombres', 'Apellidos'])\n",
        "df_1"
      ]
    },
    {
      "cell_type": "markdown",
      "metadata": {
        "id": "u7dINnBN017I"
      },
      "source": [
        "## Homogeneización de columnas\n",
        "Ya que hay varias columnas con la misma información pero con distinto nombre, es necesario unir esas columnas en una sola, para esto primero buscaremos las columnas que sean similares, las pondremos en una sola y eliminaremos las que no sirven.\n",
        "\n",
        "Para esto es necesario buscar patrones similares en las columnas que queremos unir\n"
      ]
    },
    {
      "cell_type": "code",
      "execution_count": null,
      "metadata": {
        "id": "BluMHRVx017I"
      },
      "outputs": [],
      "source": [
        "import numpy as np\n",
        "nombres = []\n",
        "for i in np.arange(1,len(columnas)):\n",
        "    if \"omb\" in columnas[i]:\n",
        "        nombres.append(columnas[i])\n",
        "nombres\n"
      ]
    },
    {
      "cell_type": "markdown",
      "metadata": {
        "id": "J0hj8rrg017I"
      },
      "source": [
        "Sustituímos las entradas que tienen NaN en la columna de \"Nombres\" por el valor de las otras columnas con el comando **fillna**\n",
        "\n",
        "Nota. Si no existe la columna se crea automaticamente"
      ]
    },
    {
      "cell_type": "code",
      "execution_count": null,
      "metadata": {
        "id": "wQZ-QK80017I"
      },
      "outputs": [],
      "source": [
        "df['Nombres'].fillna(df[\"Nombre\"], inplace=True)\n",
        "df['Nombres'].fillna(df['1. Nombres'], inplace=True)\n",
        "df['Nombres'].fillna(df[\"nombres\"], inplace=True)\n",
        "df['Nombres'].fillna(df[\"1. Nombre\"], inplace=True)\n",
        "df['Nombres'].fillna(df['Nombres:'], inplace=True)\n",
        "df['Nombres'].fillna(df['1.Nombre'], inplace=True)\n",
        "\n",
        "df"
      ]
    },
    {
      "cell_type": "markdown",
      "metadata": {
        "id": "XJcQiGZS017I"
      },
      "source": [
        "Posteriormente eliminamos todas las columnas que no necesitamos con el comando **drop**\n"
      ]
    },
    {
      "cell_type": "code",
      "execution_count": null,
      "metadata": {
        "id": "agv1sSx2017I"
      },
      "outputs": [],
      "source": [
        "df = df.drop(columns=['Nombre', '1. Nombres', 'nombres', '1. Nombre', 'Nombres:', '1.Nombre'])\n",
        "df.columns"
      ]
    },
    {
      "cell_type": "code",
      "execution_count": null,
      "metadata": {
        "id": "vhqpf6Xc017J"
      },
      "outputs": [],
      "source": [
        "df.info()"
      ]
    },
    {
      "cell_type": "code",
      "execution_count": null,
      "metadata": {
        "id": "tvQOwN5y017J"
      },
      "outputs": [],
      "source": [
        "# Homogeneizar apellidos\n",
        "columnas = df.columns\n",
        "columnas\n",
        "apellidos = []\n",
        "for i in np.arange(1,len(columnas)):\n",
        "    if \"llido\" in columnas[i]:\n",
        "        apellidos.append(columnas[i])\n",
        "apellidos"
      ]
    },
    {
      "cell_type": "code",
      "execution_count": null,
      "metadata": {
        "id": "Yh9Lbd4f017J"
      },
      "outputs": [],
      "source": [
        "df['Apellidos'].fillna(df['2. Apellido'], inplace=True)\n",
        "df['Apellidos'].fillna(df['Apellido'], inplace=True)\n",
        "df['Apellidos'].fillna(df['2. Apellidos'], inplace=True)\n",
        "df['Apellidos'].fillna(df['apellidos'], inplace=True)\n",
        "df['Apellidos'].fillna(df['Apellidos:'], inplace=True)\n",
        "df['Apellidos'].fillna(df['2.Apellidos'], inplace=True)\n",
        "df"
      ]
    },
    {
      "cell_type": "code",
      "execution_count": null,
      "metadata": {
        "id": "G8WQV42O017J"
      },
      "outputs": [],
      "source": [
        "df = df.drop(columns=['2. Apellidos', 'apellidos', 'Apellidos:', '2.Apellidos','Apellido', '2. Apellido'])\n",
        "df.columns"
      ]
    },
    {
      "cell_type": "code",
      "execution_count": null,
      "metadata": {
        "id": "ESqJZhua017J"
      },
      "outputs": [],
      "source": [
        "df.info()"
      ]
    },
    {
      "cell_type": "markdown",
      "metadata": {
        "id": "wP6hIp5z017J"
      },
      "source": [
        "## Challenge break\n",
        "### 1\n",
        "Homogeneiza la columna E-mail "
      ]
    },
    {
      "cell_type": "code",
      "execution_count": null,
      "metadata": {
        "id": "nDx3vyoL017K"
      },
      "outputs": [],
      "source": []
    },
    {
      "cell_type": "markdown",
      "metadata": {
        "id": "Pqh2r1gu017K"
      },
      "source": [
        "## Tarea moral: homogeneizar todas las columnas faltantes"
      ]
    },
    {
      "cell_type": "code",
      "execution_count": null,
      "metadata": {
        "id": "nuBVNSNW017K"
      },
      "outputs": [],
      "source": []
    },
    {
      "cell_type": "markdown",
      "metadata": {
        "id": "M_D1Y2gz017K"
      },
      "source": [
        "Vamos a leer los datos ya limpios que se encuentran en el data frame **df_1**\n"
      ]
    },
    {
      "cell_type": "code",
      "execution_count": null,
      "metadata": {
        "id": "d1uiwQeM017K"
      },
      "outputs": [],
      "source": [
        "df = pd.read_csv(directory + 'df_1.csv' )\n",
        "df"
      ]
    },
    {
      "cell_type": "code",
      "execution_count": null,
      "metadata": {
        "id": "2_7UMEMu017K"
      },
      "outputs": [],
      "source": [
        "df.info()"
      ]
    },
    {
      "cell_type": "code",
      "execution_count": null,
      "metadata": {
        "id": "mgycMMyB017K"
      },
      "outputs": [],
      "source": [
        "df[\"Nombres\"]"
      ]
    },
    {
      "cell_type": "markdown",
      "metadata": {
        "id": "UzoU9Vx8017K"
      },
      "source": [
        "Para localizar una entrada usamos el comando **iloc**"
      ]
    },
    {
      "cell_type": "code",
      "execution_count": null,
      "metadata": {
        "id": "w79jtKkI017K"
      },
      "outputs": [],
      "source": [
        "df[\"Nombres\"].iloc[31] = \"Manuel Chi\""
      ]
    },
    {
      "cell_type": "code",
      "execution_count": null,
      "metadata": {
        "id": "xQcAPqyl017K"
      },
      "outputs": [],
      "source": [
        "df[\"Nombres\"]"
      ]
    },
    {
      "cell_type": "code",
      "execution_count": null,
      "metadata": {
        "id": "GKxWaHmw017L"
      },
      "outputs": [],
      "source": [
        "df[\"Edad\"]"
      ]
    },
    {
      "cell_type": "code",
      "execution_count": null,
      "metadata": {
        "id": "k8npHJV5017L"
      },
      "outputs": [],
      "source": [
        "df.iloc[30]"
      ]
    },
    {
      "cell_type": "code",
      "execution_count": null,
      "metadata": {
        "id": "lwdO0mg6017L"
      },
      "outputs": [],
      "source": [
        "df[\"Edad\"].iloc[30] = np.random.randint(60)\n",
        "df[\"Edad\"].iloc[30]"
      ]
    },
    {
      "cell_type": "code",
      "execution_count": null,
      "metadata": {
        "id": "KpUsDzKr017L"
      },
      "outputs": [],
      "source": [
        "for idx in range(len(df)):\n",
        "    print(df[\"Edad\"].iloc[idx], type(df[\"Edad\"].iloc[idx]))\n",
        "    "
      ]
    },
    {
      "cell_type": "code",
      "execution_count": null,
      "metadata": {
        "id": "CEPc1LFK017L"
      },
      "outputs": [],
      "source": [
        "df[\"Edad\"].iloc[3].split()"
      ]
    },
    {
      "cell_type": "code",
      "execution_count": null,
      "metadata": {
        "id": "S4CuAlXM017L"
      },
      "outputs": [],
      "source": [
        "Edad = []\n",
        "for idx in range(len(df)):\n",
        "    Edad_s = df[\"Edad\"].iloc[idx]\n",
        "    if isinstance(Edad_s, str):\n",
        "        Edad_s = Edad_s.split()\n",
        "        Edad.append(int(float(Edad_s[0])))\n",
        "    elif isinstance(Edad_s, float):\n",
        "        Edad.append(int(float(Edad_s)))\n",
        "    else:\n",
        "        Edad.append(Edad_s)\n",
        "    print(Edad_s,type(Edad_s))\n",
        "print(Edad)"
      ]
    },
    {
      "cell_type": "code",
      "execution_count": null,
      "metadata": {
        "id": "uuJt-JOh017L"
      },
      "outputs": [],
      "source": [
        "df[\"Edad\"] = Edad\n",
        "df"
      ]
    },
    {
      "cell_type": "markdown",
      "metadata": {
        "id": "d83uJ3YS017L"
      },
      "source": [
        "## Challenge break\n",
        "### 2\n",
        "Convertir a entero la columna Antigüedad\n"
      ]
    },
    {
      "cell_type": "code",
      "execution_count": null,
      "metadata": {
        "id": "4i3E6i3F017L"
      },
      "outputs": [],
      "source": [
        "\n"
      ]
    },
    {
      "cell_type": "code",
      "execution_count": null,
      "metadata": {
        "id": "10lCRsRU017M"
      },
      "outputs": [],
      "source": [
        "df"
      ]
    },
    {
      "cell_type": "code",
      "execution_count": null,
      "metadata": {
        "id": "2NH6Ao_p017M"
      },
      "outputs": [],
      "source": [
        "df[\"Grado de estudios\"]"
      ]
    },
    {
      "cell_type": "code",
      "execution_count": null,
      "metadata": {
        "id": "PnkopkxD017M"
      },
      "outputs": [],
      "source": [
        "df[\"Grado de estudios\"].unique()"
      ]
    },
    {
      "cell_type": "code",
      "execution_count": null,
      "metadata": {
        "id": "ybIym-tN017M"
      },
      "outputs": [],
      "source": [
        "df = df.replace(np.nan,'Licenciatura')\n",
        "df[\"Grado de estudios\"].unique()"
      ]
    },
    {
      "cell_type": "code",
      "execution_count": null,
      "metadata": {
        "id": "hu0aMGnh017M"
      },
      "outputs": [],
      "source": [
        "df = df.replace('lic','Licenciatura')\n",
        "df[\"Grado de estudios\"].unique()"
      ]
    },
    {
      "cell_type": "code",
      "execution_count": null,
      "metadata": {
        "id": "OliAij94017M"
      },
      "outputs": [],
      "source": [
        "replace_values = {'Maestria':'Maestría','maestria':'Maestría','MC':'Maestría'}\n",
        "df = df.replace({\"Grado de estudios\":replace_values})\n",
        "df[\"Grado de estudios\"].unique()"
      ]
    },
    {
      "cell_type": "markdown",
      "metadata": {
        "id": "lGtwPqUg017M"
      },
      "source": [
        "## Challenge break\n",
        "### 3\n",
        "\n",
        "Reemplazar **'Doc', 'Dr.', 'Doctor'** por **'Doctorado'**"
      ]
    },
    {
      "cell_type": "code",
      "execution_count": null,
      "metadata": {
        "id": "e0A0sUnO017M"
      },
      "outputs": [],
      "source": []
    },
    {
      "cell_type": "code",
      "execution_count": null,
      "metadata": {
        "id": "-97qZITa017M"
      },
      "outputs": [],
      "source": [
        "df[\"Formación\"]"
      ]
    },
    {
      "cell_type": "code",
      "execution_count": null,
      "metadata": {
        "id": "2XEbQhxf017N"
      },
      "outputs": [],
      "source": [
        "df[\"Formación\"].unique()"
      ]
    },
    {
      "cell_type": "code",
      "execution_count": null,
      "metadata": {
        "id": "mtvQfgvx017N"
      },
      "outputs": [],
      "source": [
        "mask = df[\"Formación\"].str.startswith('Ing')\n",
        "mask"
      ]
    },
    {
      "cell_type": "code",
      "execution_count": null,
      "metadata": {
        "id": "lrXyQvfI017N"
      },
      "outputs": [],
      "source": [
        "df.loc[mask,'Formación'] = \"Ingeniería\"\n",
        "df"
      ]
    },
    {
      "cell_type": "code",
      "execution_count": null,
      "metadata": {
        "id": "pLasjilc017N"
      },
      "outputs": [],
      "source": [
        "df[\"Formación\"].unique()\n"
      ]
    },
    {
      "cell_type": "code",
      "execution_count": null,
      "metadata": {
        "id": "xIagOJbk017N"
      },
      "outputs": [],
      "source": [
        "df = df.replace('Petrolera','Ingeniería')\n",
        "df[\"Formación\"].unique()"
      ]
    },
    {
      "cell_type": "code",
      "execution_count": null,
      "metadata": {
        "id": "1MqL7j_o017N"
      },
      "outputs": [],
      "source": [
        "df = df.replace('Geologo', 'Geólogo')\n",
        "df[\"Formación\"].unique()"
      ]
    },
    {
      "cell_type": "code",
      "execution_count": null,
      "metadata": {
        "id": "HG5kMm8i017N"
      },
      "outputs": [],
      "source": [
        "df = df.replace('Geológo', 'Geólogo')\n",
        "df[\"Formación\"].unique()"
      ]
    },
    {
      "cell_type": "code",
      "execution_count": null,
      "metadata": {
        "id": "_lI2X6nA017N"
      },
      "outputs": [],
      "source": [
        "df = df.replace('Comp Science', 'Ciencias de la computación')\n",
        "df[\"Formación\"].unique()"
      ]
    },
    {
      "cell_type": "markdown",
      "metadata": {
        "id": "Xz-0sR54017N"
      },
      "source": [
        "## Challenge break\n",
        "### 4\n",
        "\n",
        "Reemplazar **'Físico'** por **'Física'**"
      ]
    },
    {
      "cell_type": "code",
      "execution_count": null,
      "metadata": {
        "id": "3GTA_z5k017O"
      },
      "outputs": [],
      "source": [
        "df = df.replace('Físico', 'Física')\n",
        "df[\"Formación\"].unique() \n"
      ]
    },
    {
      "cell_type": "code",
      "execution_count": null,
      "metadata": {
        "id": "cMLNrhBh017O"
      },
      "outputs": [],
      "source": [
        "df"
      ]
    },
    {
      "cell_type": "code",
      "execution_count": null,
      "metadata": {
        "id": "0e45eWZI017O"
      },
      "outputs": [],
      "source": [
        "Gerencia = df[\"Gerencia\"].copy()\n",
        "Gerencia.unique()"
      ]
    },
    {
      "cell_type": "code",
      "execution_count": null,
      "metadata": {
        "id": "_LqHJBkh017O"
      },
      "outputs": [],
      "source": [
        "idx = np.where(Gerencia.str.contains('titativa'))\n",
        "print(idx)\n",
        "Gerencia.iloc[idx]\n",
        "Gerencia[idx[0]] = \"GC\""
      ]
    },
    {
      "cell_type": "code",
      "execution_count": null,
      "metadata": {
        "id": "Wi5Vthtm017O"
      },
      "outputs": [],
      "source": [
        "Gerencia.unique()"
      ]
    },
    {
      "cell_type": "code",
      "execution_count": null,
      "metadata": {
        "id": "d9vVCidC017O"
      },
      "outputs": [],
      "source": [
        "idx = np.where(Gerencia.str.contains('cimi'))\n",
        "print(idx)\n",
        "Gerencia.iloc[idx]\n",
        "Gerencia[idx[0]] = \"IY\""
      ]
    },
    {
      "cell_type": "code",
      "execution_count": null,
      "metadata": {
        "id": "W2F6H98S017O"
      },
      "outputs": [],
      "source": [
        "Gerencia.unique()"
      ]
    },
    {
      "cell_type": "code",
      "execution_count": null,
      "metadata": {
        "id": "cfw9OqcS017O"
      },
      "outputs": [],
      "source": [
        "idx = np.where(Gerencia.str.contains('talle'))\n",
        "print(idx)\n",
        "Gerencia.iloc[idx]\n",
        "Gerencia[idx[0]] = \"ID\""
      ]
    },
    {
      "cell_type": "code",
      "execution_count": null,
      "metadata": {
        "id": "3Ncm5--C017O"
      },
      "outputs": [],
      "source": [
        "Gerencia.unique()"
      ]
    },
    {
      "cell_type": "code",
      "execution_count": null,
      "metadata": {
        "id": "a8wgQTEV017O"
      },
      "outputs": [],
      "source": [
        "idx = np.where(Gerencia.str.contains('rram'))\n",
        "print(idx)\n",
        "Gerencia.iloc[idx]\n",
        "Gerencia[idx[0]] = \"HyS\""
      ]
    },
    {
      "cell_type": "code",
      "execution_count": null,
      "metadata": {
        "id": "_v0gRxwI017O"
      },
      "outputs": [],
      "source": [
        "Gerencia.unique()"
      ]
    },
    {
      "cell_type": "code",
      "execution_count": null,
      "metadata": {
        "id": "RrRbrIhl017P"
      },
      "outputs": [],
      "source": [
        "Gerencia = Gerencia.replace('Perforación y Terminación',\"PyT\")\n",
        "Gerencia = Gerencia.replace('Gpyt',\"PyT\")\n",
        "Gerencia = Gerencia.replace('PyT',\"PyT\")\n",
        "Gerencia = Gerencia.replace('geologia',\"Geo\")\n",
        "Gerencia = Gerencia.replace('Ingeniería y servicios',\"IyS\")\n",
        "Gerencia = Gerencia.replace('Ductos y Materiales',\"DyM\")\n",
        "Gerencia = Gerencia.replace('Gerencia de Soluciones en Exploración',\"SE\")\n",
        "Gerencia = Gerencia.replace('Ingenieria de Recuperación adicional',\"RA\")\n",
        "Gerencia = Gerencia.replace('Geología Predictiva',\"SE\")\n",
        "Gerencia = Gerencia.replace('GIY',\"IY\")\n",
        "Gerencia.unique()"
      ]
    },
    {
      "cell_type": "code",
      "execution_count": null,
      "metadata": {
        "id": "Y_AnXgM3017P"
      },
      "outputs": [],
      "source": [
        "df[\"Gerencia\"] = Gerencia\n",
        "df"
      ]
    },
    {
      "cell_type": "code",
      "execution_count": null,
      "metadata": {
        "id": "OCvWx7XG017P"
      },
      "outputs": [],
      "source": [
        "df[\"Lenguajes de programación\"].unique() "
      ]
    },
    {
      "cell_type": "code",
      "execution_count": null,
      "metadata": {
        "id": "Tsn8TxmS017P"
      },
      "outputs": [],
      "source": [
        "Lenguajes = df[\"Lenguajes de programación\"].copy()\n"
      ]
    },
    {
      "cell_type": "code",
      "execution_count": null,
      "metadata": {
        "id": "-1SqSImQ017P"
      },
      "outputs": [],
      "source": [
        "idx = np.where(Lenguajes.str.contains('guno'))\n",
        "print(idx)\n",
        "Lenguajes.iloc[idx]\n",
        "Lenguajes[idx[0]] = \"Ninguno\"\n",
        "Lenguajes.unique()"
      ]
    },
    {
      "cell_type": "code",
      "execution_count": null,
      "metadata": {
        "id": "ygGyMsz1017P"
      },
      "outputs": [],
      "source": [
        "df[\"Lenguajes de programación\"] = Lenguajes\n",
        "df"
      ]
    },
    {
      "cell_type": "markdown",
      "source": [
        "Guardamos el dataframe limpio"
      ],
      "metadata": {
        "id": "R8xwizVlFOAZ"
      }
    },
    {
      "cell_type": "code",
      "execution_count": null,
      "metadata": {
        "id": "viMuic6d017P"
      },
      "outputs": [],
      "source": [
        "df.to_csv(directory +'df_2.csv',index = False)"
      ]
    },
    {
      "cell_type": "markdown",
      "source": [
        "# Analisis de datos con pandas\n",
        "Ahora analizaremos la base de datos limpia (si no lo tenemos en la memoria lo cargamos)\n"
      ],
      "metadata": {
        "id": "W46F91qYEGaO"
      }
    },
    {
      "cell_type": "code",
      "execution_count": null,
      "metadata": {
        "id": "aMJ8luV2017Q"
      },
      "outputs": [],
      "source": [
        "import pandas as pd\n",
        "df = pd.read_csv(directory+'df_2.csv' )\n",
        "df.head()"
      ]
    },
    {
      "cell_type": "code",
      "execution_count": null,
      "metadata": {
        "id": "KHqVvT-OIiaE"
      },
      "outputs": [],
      "source": [
        "df.iloc[0]"
      ]
    },
    {
      "cell_type": "code",
      "execution_count": null,
      "metadata": {
        "id": "Airayzfs017Q"
      },
      "outputs": [],
      "source": [
        "df.loc['Alberto']"
      ]
    },
    {
      "cell_type": "code",
      "execution_count": null,
      "metadata": {
        "id": "yCzrWMvP017Q"
      },
      "outputs": [],
      "source": [
        "df.index"
      ]
    },
    {
      "cell_type": "code",
      "execution_count": null,
      "metadata": {
        "id": "ZYEWU1W0017Q"
      },
      "outputs": [],
      "source": [
        "df_names = df.set_index(\"Nombres\")\n",
        "df_names.index"
      ]
    },
    {
      "cell_type": "code",
      "execution_count": null,
      "metadata": {
        "id": "CXwmyiUj017Q"
      },
      "outputs": [],
      "source": [
        "df_names.loc['Alberto']"
      ]
    },
    {
      "cell_type": "code",
      "execution_count": null,
      "metadata": {
        "id": "mKXJ1gH-017Q"
      },
      "outputs": [],
      "source": [
        "type(df_names.loc['Alberto'])"
      ]
    },
    {
      "cell_type": "code",
      "execution_count": null,
      "metadata": {
        "id": "R3TFXd2Z017Q"
      },
      "outputs": [],
      "source": [
        "df_names.loc['Rita']"
      ]
    },
    {
      "cell_type": "code",
      "execution_count": null,
      "metadata": {
        "id": "spuBNFxG017R"
      },
      "outputs": [],
      "source": [
        "type(df_names.loc['Rita'])"
      ]
    },
    {
      "cell_type": "code",
      "execution_count": null,
      "metadata": {
        "id": "wj_TH8hYIiaF"
      },
      "outputs": [],
      "source": [
        "df_names.loc['Rita', 'Gerencia']"
      ]
    },
    {
      "cell_type": "code",
      "execution_count": null,
      "metadata": {
        "id": "sCem4gcwIiaG"
      },
      "outputs": [],
      "source": [
        "df_names.T"
      ]
    },
    {
      "cell_type": "code",
      "execution_count": null,
      "metadata": {
        "id": "Luqi3ENZIiaH"
      },
      "outputs": [],
      "source": [
        "df_names.T.loc['Grado de estudios'].unique()"
      ]
    },
    {
      "cell_type": "code",
      "execution_count": null,
      "metadata": {
        "id": "rxIKh80FIiaH"
      },
      "outputs": [],
      "source": [
        "df_names.loc['JOSE ALBERTO']['Antigüedad']\n"
      ]
    },
    {
      "cell_type": "code",
      "execution_count": null,
      "metadata": {
        "id": "QMP0jfSYIiaH"
      },
      "outputs": [],
      "source": [
        "df_names.loc[:,['Edad', 'Antigüedad']]"
      ]
    },
    {
      "cell_type": "code",
      "source": [
        "df_names.loc[:,['Edad', 'Antigüedad']].describe()"
      ],
      "metadata": {
        "id": "FVLp-rFoLNct"
      },
      "execution_count": null,
      "outputs": []
    },
    {
      "cell_type": "code",
      "execution_count": null,
      "metadata": {
        "id": "gvGxQipmiNEy"
      },
      "outputs": [],
      "source": [
        "df_names.columns"
      ]
    },
    {
      "cell_type": "code",
      "execution_count": null,
      "metadata": {
        "id": "Gobux1mm017R"
      },
      "outputs": [],
      "source": [
        "df_names.T.columns"
      ]
    },
    {
      "cell_type": "code",
      "execution_count": null,
      "metadata": {
        "id": "tYCmmjdi017R"
      },
      "outputs": [],
      "source": [
        "df_names['Grado de estudios'].unique()"
      ]
    },
    {
      "cell_type": "code",
      "execution_count": null,
      "metadata": {
        "id": "dDYTTOEM017S"
      },
      "outputs": [],
      "source": [
        "Grado = df_names['Grado de estudios'].value_counts()\n",
        "Grado"
      ]
    },
    {
      "cell_type": "code",
      "execution_count": null,
      "metadata": {
        "id": "nrYYly1J017S"
      },
      "outputs": [],
      "source": [
        "df_names[df_names['Grado de estudios'] == 'Maestría']"
      ]
    },
    {
      "cell_type": "code",
      "execution_count": null,
      "metadata": {
        "id": "D04wG3WF017S"
      },
      "outputs": [],
      "source": [
        "Formacion = df_names['Formación'].value_counts()\n",
        "Formacion"
      ]
    },
    {
      "cell_type": "code",
      "execution_count": null,
      "metadata": {
        "id": "A5_LUs0i017S"
      },
      "outputs": [],
      "source": [
        "Gerencia = df_names['Gerencia'].value_counts()\n",
        "Gerencia"
      ]
    },
    {
      "cell_type": "code",
      "execution_count": null,
      "metadata": {
        "id": "gGS7Jv2g017S"
      },
      "outputs": [],
      "source": [
        "Lenguajes = df_names['Lenguajes de programación'].value_counts()\n",
        "Lenguajes"
      ]
    },
    {
      "cell_type": "code",
      "execution_count": null,
      "metadata": {
        "id": "Vn2Bkga1017S"
      },
      "outputs": [],
      "source": [
        "df_names[df_names['Lenguajes de programación'] == 'Ninguno']"
      ]
    },
    {
      "cell_type": "markdown",
      "metadata": {
        "id": "kEEboV5k017S"
      },
      "source": [
        "## Visualización con [pandas][]\n",
        "Los tipos de graficas osn los sigientes:\n",
        "\n",
        "`kind` :\n",
        "- `'line'` : line plot (default)\n",
        "- `'bar'` : vertical bar plot\n",
        "- `'barh'` : horizontal bar plot\n",
        "- `'hist'` : histogram\n",
        "- `'box'` : boxplot\n",
        "- `'kde'` : Kernel Density Estimation plot\n",
        "- `'density'` : same as 'kde'\n",
        "- `'area'` : area plot\n",
        "- `'pie'` : pie plot\n",
        "- `'scatter'` : scatter plot\n",
        "- `'hexbin'` : hexbin plot\n",
        "\n",
        "[pandas]:https://pandas.pydata.org/pandas-docs/stable/user_guide/visualization.html"
      ]
    },
    {
      "cell_type": "code",
      "execution_count": null,
      "metadata": {
        "id": "_lgSsrGu017S"
      },
      "outputs": [],
      "source": [
        "columns = ['Edad','Antigüedad']\n",
        "df[columns].plot()"
      ]
    },
    {
      "cell_type": "code",
      "execution_count": null,
      "metadata": {
        "id": "-DvKuw-u017S"
      },
      "outputs": [],
      "source": [
        "idx = np.where(df[\"Edad\"]>100)\n",
        "df.iloc[idx]\n",
        "df_1 = df.drop(37)\n",
        "df_1"
      ]
    },
    {
      "cell_type": "code",
      "execution_count": null,
      "metadata": {
        "id": "cLHtfvK5017T"
      },
      "outputs": [],
      "source": [
        "df_1.plot('Edad','Antigüedad', kind = 'scatter')"
      ]
    },
    {
      "cell_type": "code",
      "execution_count": null,
      "metadata": {
        "id": "0EMcTzcL017T"
      },
      "outputs": [],
      "source": [
        "df[\"Index\"] = df.index\n",
        "df_1[\"Index\"] = df_1.index\n",
        "df"
      ]
    },
    {
      "cell_type": "code",
      "execution_count": null,
      "metadata": {
        "id": "kMGXfJoS017T"
      },
      "outputs": [],
      "source": [
        "df.plot(x=\"Index\",y='Edad', color='magenta', kind = 'scatter')"
      ]
    },
    {
      "cell_type": "code",
      "execution_count": null,
      "metadata": {
        "id": "wZfJpnku017T"
      },
      "outputs": [],
      "source": [
        "df_1.plot(x=\"Index\",y='Edad', color='magenta', kind = 'scatter')"
      ]
    },
    {
      "cell_type": "code",
      "execution_count": null,
      "metadata": {
        "id": "KLMPVfXv017T"
      },
      "outputs": [],
      "source": [
        "df_1.iloc[0:10].plot(x=\"Index\",y='Edad',  marker=\"d\",markersize=5,color='magenta')"
      ]
    },
    {
      "cell_type": "code",
      "execution_count": null,
      "metadata": {
        "id": "igSsKhJI017T"
      },
      "outputs": [],
      "source": [
        "df_1.Edad.plot()\n",
        "df_1.Antigüedad.plot()"
      ]
    },
    {
      "cell_type": "code",
      "execution_count": null,
      "metadata": {
        "id": "CB1d0cOL017T"
      },
      "outputs": [],
      "source": [
        "df_1.Edad.plot()\n",
        "df_1.Antigüedad.plot(secondary_y=True)"
      ]
    },
    {
      "cell_type": "markdown",
      "metadata": {
        "id": "nGvBXM7o017T"
      },
      "source": [
        "# Histogramas"
      ]
    },
    {
      "cell_type": "code",
      "execution_count": null,
      "metadata": {
        "id": "MW-MUo4q017U"
      },
      "outputs": [],
      "source": [
        "df_1[\"Edad\"].plot.hist()"
      ]
    },
    {
      "cell_type": "code",
      "execution_count": null,
      "metadata": {
        "id": "dNrtXFYl017U"
      },
      "outputs": [],
      "source": [
        "df_1[\"Edad\"].plot.hist(bins=40)"
      ]
    },
    {
      "cell_type": "code",
      "execution_count": null,
      "metadata": {
        "id": "xywanlqR017U"
      },
      "outputs": [],
      "source": [
        "# Varios histogramas\n",
        "columns = ['Edad','Antigüedad']\n",
        "df_1[columns].plot.hist(bins=40)"
      ]
    },
    {
      "cell_type": "code",
      "execution_count": null,
      "metadata": {
        "id": "AVRuVtSs017U"
      },
      "outputs": [],
      "source": [
        "# Varios histogramas\n",
        "columns = ['Edad','Antigüedad']\n",
        "df_1[columns].iloc[0:-1].plot.hist(bins=40,alpha=.4)"
      ]
    },
    {
      "cell_type": "code",
      "execution_count": null,
      "metadata": {
        "id": "_wn9m1tV017U"
      },
      "outputs": [],
      "source": [
        "df_1[columns].plot.hist(subplots=True, layout=(1,2), figsize=(16,5), colormap='cool')"
      ]
    },
    {
      "cell_type": "code",
      "execution_count": null,
      "metadata": {
        "id": "qp2uXR9z017U"
      },
      "outputs": [],
      "source": [
        "# Barras verticales\n",
        "df_1[columns].plot.bar(figsize=(16,5))"
      ]
    },
    {
      "cell_type": "code",
      "execution_count": null,
      "metadata": {
        "id": "9FOLciOA017U"
      },
      "outputs": [],
      "source": [
        "# Barras horizontales\n",
        "df_1[columns].plot.barh(figsize=(5,10))"
      ]
    },
    {
      "cell_type": "code",
      "execution_count": null,
      "metadata": {
        "id": "ZSkhqhHK017U"
      },
      "outputs": [],
      "source": [
        "# Barras verticales encimadas\n",
        "df_1[columns].plot.bar(stacked=True,figsize=(16,5))"
      ]
    },
    {
      "cell_type": "code",
      "execution_count": null,
      "metadata": {
        "id": "EYDbntzi017U"
      },
      "outputs": [],
      "source": [
        "df_1[columns].plot.barh(stacked=True,figsize=(5,10))"
      ]
    },
    {
      "cell_type": "code",
      "execution_count": null,
      "metadata": {
        "id": "ah2OQYKF017U"
      },
      "outputs": [],
      "source": [
        "# Scatter plots\n",
        "from pandas.plotting import scatter_matrix\n",
        "scatter_matrix(df_1[columns].iloc[:-1], diagonal='kde')"
      ]
    },
    {
      "cell_type": "markdown",
      "metadata": {
        "id": "mcwxiQn-017V"
      },
      "source": [
        "## Diagrama hexadecimal (hexbin)\n",
        "Un diagrama de hexadecimal es útil para representar la relación de 2 variables numéricas cuando tiene muchos puntos de datos. Sin la superposición de los puntos, la ventana de trazado se divide en varios cubos hexagonales. El color de cada cubo hexagonal indica el número de puntos que contiene. \n",
        "Algunos mapas de color se puenen encontrar en el siguente enlace: [mapas](https://matplotlib.org/stable/tutorials/colors/colormaps.html)"
      ]
    },
    {
      "cell_type": "code",
      "execution_count": null,
      "metadata": {
        "id": "Msbu1nAH017V"
      },
      "outputs": [],
      "source": [
        "df_1.iloc[:-1].plot.hexbin(x='Edad',y='Antigüedad', gridsize=25, colormap='magma')"
      ]
    },
    {
      "cell_type": "markdown",
      "metadata": {
        "id": "dyGfvfhq-fNe"
      },
      "source": [
        "## Guardar DataFrames\n",
        "\n",
        "Para guardar los dataframes se puede usar las siguientes instrucciones:\n",
        "\n",
        "```\n",
        "df.to_csv('df.csv')\n",
        "df.to_excel(\"df.xlsx\")\n",
        "df.to_csv(r'Datos.txt', header=None, index=None, sep='\\t', mode='a')\n",
        "```\n"
      ]
    },
    {
      "cell_type": "code",
      "execution_count": null,
      "metadata": {
        "id": "M439FnC6KeTV"
      },
      "outputs": [],
      "source": [
        "df_names.to_csv('df_names.csv')"
      ]
    },
    {
      "cell_type": "code",
      "execution_count": null,
      "metadata": {
        "id": "pEMh38b3017V"
      },
      "outputs": [],
      "source": [
        "df.to_csv('df.csv')"
      ]
    },
    {
      "cell_type": "code",
      "execution_count": null,
      "metadata": {
        "id": "lbnMwGz9017V"
      },
      "outputs": [],
      "source": [
        "df_names.to_excel('df_names.xlsx')"
      ]
    },
    {
      "cell_type": "code",
      "execution_count": null,
      "metadata": {
        "id": "INt_9wQ8017V"
      },
      "outputs": [],
      "source": [
        "df_names.to_excel('df_names.xlsx',sheet_name='Datos')"
      ]
    },
    {
      "cell_type": "code",
      "execution_count": null,
      "metadata": {
        "id": "b-eNmZaV017V"
      },
      "outputs": [],
      "source": [
        "df.to_csv(r'Datos_1.txt', sep='\\t', mode='a')"
      ]
    },
    {
      "cell_type": "code",
      "execution_count": null,
      "metadata": {
        "id": "JZw88jnx017V"
      },
      "outputs": [],
      "source": [
        "df.to_csv(r'Datos.txt', header=None, index=None, sep='\\t', mode='a')"
      ]
    },
    {
      "cell_type": "markdown",
      "metadata": {
        "id": "NQCR818w017V"
      },
      "source": [
        "## Leer DataFrames\n",
        "\n",
        "Para leer los dataframes se puede usar la siguiente instrucción:\n",
        "\n",
        "```\n",
        "df = pd.read_csv('df.csv')\n",
        "```\n",
        "\n",
        "Un análisis de los tiempos de lectura se puede encontrar en esta [liga][]\n",
        "\n",
        "[liga]:https://pythonspeed.com/articles/pandas-read-csv-fast/"
      ]
    },
    {
      "cell_type": "code",
      "execution_count": null,
      "metadata": {
        "id": "bXLKGiyL017V"
      },
      "outputs": [],
      "source": [
        "df_read = pd.read_csv('df_names.csv')\n",
        "df_read"
      ]
    },
    {
      "cell_type": "code",
      "execution_count": null,
      "metadata": {
        "id": "fnTgPMib017V"
      },
      "outputs": [],
      "source": [
        "df_read = pd.read_csv('df.csv')\n",
        "df_read"
      ]
    },
    {
      "cell_type": "code",
      "execution_count": null,
      "metadata": {
        "id": "qs-CScs1017W"
      },
      "outputs": [],
      "source": [
        "df_read = pd.read_csv('df_names.csv', index_col=0)\n",
        "df_read"
      ]
    },
    {
      "cell_type": "code",
      "execution_count": null,
      "metadata": {
        "id": "a_gp_W5Y017W"
      },
      "outputs": [],
      "source": [
        "df_read = pd.read_excel('df_names.xlsx', index_col=0)\n",
        "df_read"
      ]
    },
    {
      "cell_type": "code",
      "execution_count": null,
      "metadata": {
        "id": "AYU2g8rB017W"
      },
      "outputs": [],
      "source": [
        "df_read = pd.read_csv('Datos.txt', sep=\"\\t\")\n",
        "df_read\n"
      ]
    },
    {
      "cell_type": "code",
      "execution_count": null,
      "metadata": {
        "id": "RtWTHS8O017W"
      },
      "outputs": [],
      "source": [
        "df_read = pd.read_csv('Datos.txt', sep=\"\\t\", header=None)\n",
        "df_read\n"
      ]
    },
    {
      "cell_type": "code",
      "execution_count": null,
      "metadata": {
        "id": "j9FwsviI017W"
      },
      "outputs": [],
      "source": [
        "df_read.iloc[0]"
      ]
    },
    {
      "cell_type": "code",
      "execution_count": null,
      "metadata": {
        "id": "qdUq1keV017W"
      },
      "outputs": [],
      "source": [
        "df_read.iloc[0][0]"
      ]
    }
  ],
  "metadata": {
    "colab": {
      "provenance": []
    },
    "kernelspec": {
      "display_name": "Python 3 (ipykernel)",
      "language": "python",
      "name": "python3"
    },
    "language_info": {
      "codemirror_mode": {
        "name": "ipython",
        "version": 3
      },
      "file_extension": ".py",
      "mimetype": "text/x-python",
      "name": "python",
      "nbconvert_exporter": "python",
      "pygments_lexer": "ipython3",
      "version": "3.9.7"
    }
  },
  "nbformat": 4,
  "nbformat_minor": 0
}